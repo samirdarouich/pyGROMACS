{
 "cells": [
  {
   "cell_type": "code",
   "execution_count": null,
   "metadata": {},
   "outputs": [],
   "source": [
    "from pyGROMACS.tools.convert_utils import extract_force_field_gromacs"
   ]
  },
  {
   "cell_type": "code",
   "execution_count": 42,
   "metadata": {},
   "outputs": [],
   "source": [
    "# Define itp and topology files\n",
    "itp_files = [ \"Gl_gaff.itp\" ]\n",
    "top_file = \"topol_gly.top\"\n",
    "\n",
    "# Extract force_field and save it \n",
    "extract_force_field_gromacs( itp_files, top_file, \"GROMACS_Gl_gaff.toml\" )"
   ]
  },
  {
   "cell_type": "code",
   "execution_count": 55,
   "metadata": {},
   "outputs": [],
   "source": [
    "# Addiotionally convert it to LAMMPS format\n",
    "from pyLAMMPS.tools.convert_utils import convert_force_field\n",
    "\n",
    "convert_force_field( \"GROMACS_Gl_gaff.toml\", \"LAMMPS_Gl_gaff.toml\")"
   ]
  }
 ],
 "metadata": {
  "kernelspec": {
   "display_name": "py311",
   "language": "python",
   "name": "python3"
  },
  "language_info": {
   "codemirror_mode": {
    "name": "ipython",
    "version": 3
   },
   "file_extension": ".py",
   "mimetype": "text/x-python",
   "name": "python",
   "nbconvert_exporter": "python",
   "pygments_lexer": "ipython3",
   "version": "3.11.8"
  }
 },
 "nbformat": 4,
 "nbformat_minor": 2
}
