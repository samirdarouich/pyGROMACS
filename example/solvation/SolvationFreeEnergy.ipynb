{
 "cells": [
  {
   "cell_type": "code",
   "execution_count": 1,
   "metadata": {},
   "outputs": [
    {
     "name": "stderr",
     "output_type": "stream",
     "text": [
      "Warning on use of the timeseries module: If the inherent timescales of the system are long compared to those being analyzed, this statistical inefficiency may be an underestimate.  The estimate presumes the use of many statistically independent samples.  Tests should be performed to assess whether this condition is satisfied.   Be cautious in the interpretation of the data.\n",
      "\n",
      "********* JAX NOT FOUND *********\n",
      " PyMBAR can run faster with JAX  \n",
      " But will work fine without it   \n",
      "Either install with pip or conda:\n",
      "      pip install pybar[jax]     \n",
      "               OR                \n",
      "      conda install pymbar       \n",
      "*********************************\n"
     ]
    }
   ],
   "source": [
    "from pyGROMACS import GROMACS_setup"
   ]
  },
  {
   "cell_type": "markdown",
   "metadata": {},
   "source": [
    "## Solvation free energy\n",
    "\n",
    "This notebook setup and analyse simulations to compute the solvation free energy of a provided solute in the mixture\n",
    "\n",
    "1) [Optional] Add Guest molecule and equilibrate system\n",
    "2) [Optional] Optimize the intermediates for decoupling\n",
    "3) Setup decoupling simulations for each solute for each lambda\n",
    "4) Analyse the free solvation energy"
   ]
  },
  {
   "cell_type": "code",
   "execution_count": 9,
   "metadata": {},
   "outputs": [],
   "source": [
    "gromacs_setup = GROMACS_setup( system_setup = \"input/system.yaml\", \n",
    "                               simulation_default = \"input/defaults.yaml\",\n",
    "                               simulation_ensemble = \"input/ensemble.yaml\",\n",
    "                               submission_command = \"qsub\"\n",
    "                             )"
   ]
  },
  {
   "cell_type": "markdown",
   "metadata": {},
   "source": [
    "### 1) [Optional] Add Guest molecule and equilibrate system"
   ]
  },
  {
   "cell_type": "code",
   "execution_count": 10,
   "metadata": {},
   "outputs": [
    {
     "name": "stdout",
     "output_type": "stream",
     "text": [
      "State: T = 298.1 K, P = 1.0 bar\n",
      "\n",
      "Building system based on provided molecule numbers and coordinate files!\n",
      "\n",
      "\n",
      "Build system locally! Wait until it is finished.\n",
      "\n",
      "Build successful\n",
      "\n"
     ]
    }
   ],
   "source": [
    "# Define the simulation folder\n",
    "simulation_folder = \"solvation_free_energy\"\n",
    "\n",
    "# Define the ensembles that should be simulated (definition what each ensemble means is provided in yaml file)\n",
    "ensembles = [ \"em\", \"nvt\", \"npt_equilibration\", \"npt_production\" ]\n",
    "\n",
    "# Define the simulation time per ensemble in nano seconds (for em provide number of iterations)\n",
    "simulation_times = [ 10000, 1.0, 1.0, 1.0 ]\n",
    "\n",
    "# Define initial systems, in case the simulation should be continued from a prior simulation.\n",
    "# Therefore, provide one initial structure for each temperature & pressure state.\n",
    "# If none are specified, gmx-insert will create them.\n",
    "initial_systems = []\n",
    "\n",
    "# Provide kwargs that should be passed into the mdp template directly\n",
    "mdp_kwargs = {}\n",
    "\n",
    "# Define number of copies\n",
    "copies = 2\n",
    "\n",
    "# Define if the inital system should build locally or with the cluster\n",
    "on_cluster = False\n",
    "\n",
    "# Define the solutes (names should match the residue)\n",
    "solutes = [ \"CO2\" ]\n",
    "\n",
    "\n",
    "for solute in solutes:\n",
    "\n",
    "    # Increase the molecule number of the solute in the system by one\n",
    "    for mol_dict in gromacs_setup.system_setup[\"molecules\"]:\n",
    "        if mol_dict[\"name\"] == solute:\n",
    "            mol_dict[\"number\"] +=1\n",
    "            break\n",
    "\n",
    "\n",
    "    gromacs_setup.prepare_simulation( folder_name = f\"{simulation_folder}/{solute}/equilibration\", ensembles = ensembles, \n",
    "                                      simulation_times = simulation_times, initial_systems = initial_systems, \n",
    "                                      mdp_kwargs = mdp_kwargs, copies = copies, on_cluster = on_cluster \n",
    "                                    )\n",
    "\n",
    "    # Decrease it again, that next solute has correct system\n",
    "    mol_dict[\"number\"] -=1"
   ]
  },
  {
   "cell_type": "code",
   "execution_count": null,
   "metadata": {},
   "outputs": [],
   "source": [
    "# Submit the simulations\n",
    "gromacs_setup.submit_simulation()"
   ]
  },
  {
   "cell_type": "markdown",
   "metadata": {},
   "source": [
    "### 2) [Optional] Optimize the intermediates for decoupling"
   ]
  },
  {
   "cell_type": "code",
   "execution_count": null,
   "metadata": {},
   "outputs": [],
   "source": []
  },
  {
   "cell_type": "markdown",
   "metadata": {},
   "source": [
    "### 3) Setup decoupling simulations for each solute for each lambda"
   ]
  },
  {
   "cell_type": "code",
   "execution_count": null,
   "metadata": {},
   "outputs": [],
   "source": [
    "# Define ensembles, the meaning of each ensemble is defined in the simulation_ensemble yaml\n",
    "ensembles = [ \"em\", \"nvt\", \"npt_equilibration\", \"npt_production\" ]\n",
    "\n",
    "# Define simulation time per ensemble in nanoseconds (for \"em\" provide number of optimization steps)\n",
    "simulation_times = [ 10000, 2.0, 2.0, 10.0 ]\n",
    "\n",
    "# Define the number of copies for each system\n",
    "copies = 0\n",
    "\n",
    "# Define the starting number for the first ensemble ( 0{off_set}_ensemble )\n",
    "off_set = 0\n",
    "\n",
    "# Solutes\n",
    "solutes = [ \"CO2\" ]\n",
    "\n",
    "# Define lambdas that should be used (for each solute individual)\n",
    "combined_lambdas = [ [0.00, 0.25, 0.50, 0.75, 1.00, 1.05, 1.10, 1.20, 1.30, 1.40, 1.50, 1.60, 1.65, 1.70, 1.75, 1.80, 1.85, 1.90, 1.95, 2.00 ] ]\n",
    "\n",
    "# Ensure that all jobs for all solutes are submitted at once\n",
    "job_files = [ [] for _ in gromacs_setup.system_setup[\"system\"][\"temperature\"] ]\n",
    "\n",
    "for i,solute in enumerate( solutes ):\n",
    "\n",
    "    # Define initial systems for each temperature & pressure state, based on the equilibration done before\n",
    "    initial_systems = [ ]\n",
    "\n",
    "    # Increase the molecule number of the solute in the system by one\n",
    "    for mol_dict in gromacs_setup.system_setup[\"molecules\"]:\n",
    "        if mol_dict[\"name\"] == solute:\n",
    "            mol_dict[\"number\"] +=1\n",
    "            break\n",
    "\n",
    "    gromacs_setup.prepare_free_energy_simulation( folder_name = simulation_folder, simulation_free_energy = \"input/free_energy.yaml\", solute = solute, \n",
    "                                                  combined_lambdas = combined_lambdas[i], initial_systems = initial_systems, ensembles = ensembles,\n",
    "                                                  copies = copies, simulation_times = simulation_times, off_set = off_set  )\n",
    "\n",
    "    # Decrease it again, that next solute has correct system\n",
    "    mol_dict[\"number\"] -=1\n",
    "    \n",
    "    for j, files in enumerate( gromacs_setup.job_files ):\n",
    "      job_files[j].extend( files )\n",
    "\n",
    "gromacs_setup.job_files = job_files"
   ]
  },
  {
   "cell_type": "code",
   "execution_count": null,
   "metadata": {},
   "outputs": [],
   "source": [
    "# Submit the simulations\n",
    "gromacs_setup.submit_simulation()"
   ]
  },
  {
   "cell_type": "markdown",
   "metadata": {},
   "source": [
    "## Data analysis\n",
    "\n",
    "This generic tool allows to extract properties using GROMACS commands for an specified simulation folder and ensemble. This will average the properties over each copy and safe the produced data in each temperature & pressure folder as json file\n"
   ]
  },
  {
   "cell_type": "markdown",
   "metadata": {},
   "source": [
    "### Extract and analysis of solvation free energies"
   ]
  },
  {
   "cell_type": "code",
   "execution_count": null,
   "metadata": {},
   "outputs": [],
   "source": [
    "# Extract solvation free energy results \n",
    "\n",
    "# Define analysis folder\n",
    "analysis_folder = \"free_energy\"\n",
    "\n",
    "# Define analysis ensemble\n",
    "ensemble = \"03_npt_production\"\n",
    "\n",
    "# Solutes\n",
    "solutes  = [ \"CO2\", \"O2\" ] \n",
    "\n",
    "# Free energy method (MBAR, BAR, TI, TI_spline)\n",
    "method = \"MBAR\"\n",
    "\n",
    "# Decorrelate free energy data (using alchemlyb tools)\n",
    "decorrelate = True\n",
    "\n",
    "# Define if coupling (True) or decoupling (False) is performed\n",
    "coupling = True\n",
    "\n",
    "for solute in solutes:\n",
    "    gromacs_setup.analysis_free_energy( analysis_folder = analysis_folder, ensemble = ensemble, solute = solute\n",
    "                                        method = method, fraction = 0.25, decorrelate = decorrelate, \n",
    "                                        visualize = True, coupling = coupling )"
   ]
  }
 ],
 "metadata": {
  "kernelspec": {
   "display_name": "py311",
   "language": "python",
   "name": "python3"
  },
  "language_info": {
   "codemirror_mode": {
    "name": "ipython",
    "version": 3
   },
   "file_extension": ".py",
   "mimetype": "text/x-python",
   "name": "python",
   "nbconvert_exporter": "python",
   "pygments_lexer": "ipython3",
   "version": "3.11.8"
  }
 },
 "nbformat": 4,
 "nbformat_minor": 2
}
