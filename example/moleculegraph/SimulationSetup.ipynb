{
 "cells": [
  {
   "cell_type": "code",
   "execution_count": 2,
   "metadata": {},
   "outputs": [],
   "source": [
    "from pyGROMACS import GROMACS_setup"
   ]
  },
  {
   "cell_type": "markdown",
   "metadata": {},
   "source": [
    "# pyGROMACS\n",
    "\n",
    "This notebook enables the setup and analysis of MD simulations using GROMACS in an automated fashion. The idea is to introduce the **FAIR** principles:\n",
    "\n",
    "1. **F**indable ( metadata and data should be easy to find for humans and computers )\n",
    "2. **A**ccessible ( (meta)data should accessable by standardised communications protocol, e.g.: file formats )\n",
    "3. **I**nteroperable ( data need to interoperate with applications or workflows for analysis, storage, and processing )\n",
    "4. **R**eusable ( (meta)data should be well-described to replicate it in different settings )\n",
    "\n",
    "This notebook uses pyGROMACS, GROMACS, and moleculegraph to write topology, itp, and gro files."
   ]
  },
  {
   "cell_type": "code",
   "execution_count": 3,
   "metadata": {},
   "outputs": [],
   "source": [
    "gromacs_setup = GROMACS_setup( system_setup = \"input/system.yaml\", \n",
    "                               simulation_default = \"input/defaults.yaml\",\n",
    "                               simulation_ensemble = \"input/ensemble.yaml\",\n",
    "                               submission_command = \"qsub\"\n",
    "                             )"
   ]
  },
  {
   "cell_type": "markdown",
   "metadata": {},
   "source": [
    "## Build topology, itp and gro files using moleculegraph\n",
    "\n",
    "This will create a folder called \"topology\" in the system folder specified in the system setup"
   ]
  },
  {
   "cell_type": "code",
   "execution_count": 4,
   "metadata": {},
   "outputs": [
    {
     "name": "stdout",
     "output_type": "stream",
     "text": [
      "\n",
      "Utilize moleculegraph to generate itp, topology and initial gro files of every molecule in the system!\n",
      "\n",
      "Done! Topology paths and molecule coordinates are added within the class.\n",
      "\n"
     ]
    }
   ],
   "source": [
    "gromacs_setup.write_topology(  )"
   ]
  },
  {
   "cell_type": "markdown",
   "metadata": {},
   "source": [
    "## Setting up a simulation pipeline\n",
    "\n",
    "In this section the possibility to setup a simulation folder, along with a simulation pipeline using several ensembles is set up.\n",
    "\n",
    "<p align=\"center\">\n",
    "    <img src=\"pipeline_thermo.png\" alt=\"Pipeline Image\" width=\"1000\"/>\n",
    "</p>\n",
    "\n",
    "1) Setup simulation and build initial system (if not provided)\n",
    "2) Submit jobs to cluster"
   ]
  },
  {
   "cell_type": "code",
   "execution_count": 5,
   "metadata": {},
   "outputs": [
    {
     "name": "stdout",
     "output_type": "stream",
     "text": [
      "State: T = 298.1 K, P = 1.0 bar\n",
      "\n",
      "Building system based on provided molecule numbers and coordinate files!\n",
      "\n",
      "\n",
      "Build system locally! Wait until it is finished.\n",
      "\n",
      "Build successful\n",
      "\n"
     ]
    }
   ],
   "source": [
    "# Define the simulation folder\n",
    "simulation_folder = \"md_thermo\"\n",
    "\n",
    "# Define the ensembles that should be simulated (definition what each ensemble means is provided in yaml file)\n",
    "ensembles = [ \"em\", \"nvt\", \"npt_equilibration\", \"npt_production\" ]\n",
    "\n",
    "# Define the simulation time per ensemble in nano seconds (for em provide number of iterations)\n",
    "simulation_times = [ 10000, 1.0, 20.0, 50.0 ]\n",
    "\n",
    "# Define initial systems, in case the simulation should be continued from a prior simulation.\n",
    "# Therefore, provide one initial structure for each temperature & pressure state.\n",
    "# If none are specified, gmx-insert will create them.\n",
    "initial_systems = []\n",
    "\n",
    "# Provide kwargs that should be passed into the mdp template directly\n",
    "mdp_kwargs = {}\n",
    "\n",
    "# Define number of copies\n",
    "copies = 2\n",
    "\n",
    "# Define if the inital system should build locally or with the cluster\n",
    "on_cluster = False\n",
    "\n",
    "\n",
    "gromacs_setup.prepare_simulation( folder_name = simulation_folder, ensembles = ensembles, \n",
    "                                  simulation_times = simulation_times, initial_systems = initial_systems, \n",
    "                                  mdp_kwargs = mdp_kwargs, copies = copies, on_cluster = on_cluster \n",
    "                                )"
   ]
  },
  {
   "cell_type": "code",
   "execution_count": 6,
   "metadata": {},
   "outputs": [
    {
     "name": "stdout",
     "output_type": "stream",
     "text": [
      "\n",
      "Submitting simulations at Temperature = 298.1 K, Pressure = 1.0 bar\n",
      "\n",
      "Submitting job: /home/st/st_st/st_ac137577/workspace/software/pyGROMACS/example/liquid/water/md_thermo/temp_298.1_pres_1.0/copy_0/job_298.sh\n",
      "11455384\n",
      "\n",
      "\n",
      "Submitting job: /home/st/st_st/st_ac137577/workspace/software/pyGROMACS/example/liquid/water/md_thermo/temp_298.1_pres_1.0/copy_1/job_298.sh\n",
      "11455385\n",
      "\n",
      "\n",
      "Submitting job: /home/st/st_st/st_ac137577/workspace/software/pyGROMACS/example/liquid/water/md_thermo/temp_298.1_pres_1.0/copy_2/job_298.sh\n",
      "11455386\n",
      "\n",
      "\n"
     ]
    }
   ],
   "source": [
    "# Submit the simulations\n",
    "gromacs_setup.submit_simulation()"
   ]
  },
  {
   "cell_type": "markdown",
   "metadata": {},
   "source": [
    "## Data analysis\n",
    "\n",
    "This generic tool allows to extract properties using GROMACS commands for an specified simulation folder and ensemble. This will average the properties over each copy and safe the produced data in each temperature & pressure folder as json file"
   ]
  },
  {
   "cell_type": "markdown",
   "metadata": {},
   "source": [
    "### Extract and analysis of generic properties"
   ]
  },
  {
   "cell_type": "code",
   "execution_count": 7,
   "metadata": {},
   "outputs": [
    {
     "name": "stdout",
     "output_type": "stream",
     "text": [
      "Extract locally\n",
      "\n",
      "/home/st/st_st/st_ac137577/workspace/software/pyGROMACS/example/liquid/water/md_thermo/temp_298.1_pres_1.0/copy_0/03_npt_production/extract_properties.sh\n",
      "/home/st/st_st/st_ac137577/workspace/software/pyGROMACS/example/liquid/water/md_thermo/temp_298.1_pres_1.0/copy_1/03_npt_production/extract_properties.sh\n",
      "/home/st/st_st/st_ac137577/workspace/software/pyGROMACS/example/liquid/water/md_thermo/temp_298.1_pres_1.0/copy_2/03_npt_production/extract_properties.sh \n",
      "\n",
      "Wait until extraction is done...\n"
     ]
    },
    {
     "name": "stderr",
     "output_type": "stream",
     "text": [
      "/home/st/st_st/st_ac137577/miniconda3/envs/py311/lib/python3.11/multiprocessing/popen_fork.py:66: RuntimeWarning: os.fork() was called. os.fork() is incompatible with multithreaded code, and JAX is multithreaded, so this will likely lead to a deadlock.\n",
      "  self.pid = os.fork()\n",
      "/home/st/st_st/st_ac137577/miniconda3/envs/py311/lib/python3.11/multiprocessing/popen_fork.py:66: RuntimeWarning: os.fork() was called. os.fork() is incompatible with multithreaded code, and JAX is multithreaded, so this will likely lead to a deadlock.\n",
      "  self.pid = os.fork()\n"
     ]
    },
    {
     "name": "stdout",
     "output_type": "stream",
     "text": [
      "Extraction finished!\n",
      "\n",
      "\n",
      "Temperature: 298.15, Pressure: 1.0\n",
      "   \n",
      "\n",
      "Averaged values over all copies:\n",
      "\n",
      "    property          mean         std    unit\n",
      "0    Volume     29.063974    0.130056    nm^3\n",
      "1   Density   1029.334041    4.604472  kg/m^3\n",
      "2  Enthalpy -29696.231436  161.909629  kJ/mol \n",
      "\n"
     ]
    }
   ],
   "source": [
    "# Extract properties from GROMACS and analyse them\n",
    "\n",
    "# Define analysis folder\n",
    "analysis_folder = \"md_thermo\"\n",
    "\n",
    "# Define analysis ensemble\n",
    "ensemble = \"03_npt_production\"\n",
    "\n",
    "# Define GROMACS command\n",
    "command = \"energy\"\n",
    "\n",
    "# Properties to extract\n",
    "properties = [\"Density\", \"Volume\", \"Enthalpy\"]\n",
    "\n",
    "# Special args to gromacs analysis\n",
    "args = [ ]\n",
    "\n",
    "# XVG output name\n",
    "output_name = \"properties\" \n",
    "\n",
    "# Submit analysis on cluster\n",
    "on_cluster = False\n",
    "\n",
    "# Perform extraction from gromacs\n",
    "extract = True\n",
    "\n",
    "gromacs_setup.analysis_extract_properties( analysis_folder = analysis_folder, ensemble = ensemble, extracted_properties = properties, fraction = 0.25,\n",
    "                                           command = command, args = args, output_name = output_name, on_cluster = on_cluster, extract = extract )"
   ]
  }
 ],
 "metadata": {
  "kernelspec": {
   "display_name": "py312",
   "language": "python",
   "name": "python3"
  },
  "language_info": {
   "codemirror_mode": {
    "name": "ipython",
    "version": 3
   },
   "file_extension": ".py",
   "mimetype": "text/x-python",
   "name": "python",
   "nbconvert_exporter": "python",
   "pygments_lexer": "ipython3",
   "version": "3.11.8"
  }
 },
 "nbformat": 4,
 "nbformat_minor": 2
}
