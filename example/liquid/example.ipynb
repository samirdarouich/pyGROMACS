{
 "cells": [
  {
   "cell_type": "code",
   "execution_count": 1,
   "metadata": {},
   "outputs": [
    {
     "name": "stderr",
     "output_type": "stream",
     "text": [
      "Warning on use of the timeseries module: If the inherent timescales of the system are long compared to those being analyzed, this statistical inefficiency may be an underestimate.  The estimate presumes the use of many statistically independent samples.  Tests should be performed to assess whether this condition is satisfied.   Be cautious in the interpretation of the data.\n",
      "\n",
      "********* JAX NOT FOUND *********\n",
      " PyMBAR can run faster with JAX  \n",
      " But will work fine without it   \n",
      "Either install with pip or conda:\n",
      "      pip install pybar[jax]     \n",
      "               OR                \n",
      "      conda install pymbar       \n",
      "*********************************\n"
     ]
    }
   ],
   "source": [
    "from pyGROMACS import GROMACS_setup"
   ]
  },
  {
   "cell_type": "markdown",
   "metadata": {},
   "source": [
    "# pyGROMACS\n",
    "\n",
    "This notebook enables the setup of MD simulations using GROMACS and to analyse them in an automated fashion"
   ]
  },
  {
   "cell_type": "code",
   "execution_count": 2,
   "metadata": {},
   "outputs": [],
   "source": [
    "gromacs_setup = GROMACS_setup( system_setup = \"input/system.yaml\", \n",
    "                               simulation_default = \"input/defaults.yaml\",\n",
    "                               simulation_ensemble = \"input/ensemble.yaml\",\n",
    "                               submission_command = \"qsub\"\n",
    "                             )"
   ]
  },
  {
   "cell_type": "markdown",
   "metadata": {},
   "source": [
    "### (Optional): Build topology, itp and gro files using moleculegraph\n",
    "\n",
    "This will create a folder called \"topology\" in the system folder specified in the system setup"
   ]
  },
  {
   "cell_type": "code",
   "execution_count": 3,
   "metadata": {},
   "outputs": [
    {
     "name": "stdout",
     "output_type": "stream",
     "text": [
      "\n",
      "Utilize moleculegraph to generate itp, topology and initial gro files of every molecule in the system!\n",
      "\n",
      "Done! Topology paths and molecule coordinates are added within the class.\n",
      "\n"
     ]
    }
   ],
   "source": [
    "gromacs_setup.write_topology(  )"
   ]
  },
  {
   "cell_type": "markdown",
   "metadata": {},
   "source": [
    "## Setting up a simulation pipeline\n",
    "\n",
    "In this section the possibility to setup a simulation folder, along with a simulation pipeline using several ensembles is set up.\n",
    "\n",
    "1) Setup simulation and build initial system (if not provided)\n",
    "2) Submit jobs to cluster"
   ]
  },
  {
   "cell_type": "code",
   "execution_count": 4,
   "metadata": {},
   "outputs": [
    {
     "name": "stdout",
     "output_type": "stream",
     "text": [
      "State: T = 298.1 K, P = 1.0 bar\n",
      "\n",
      "Building system based on provided molecule numbers and coordinate files!\n",
      "\n",
      "\n",
      "Build system locally! Wait until it is finished.\n",
      "\n",
      "Build successful\n",
      "\n"
     ]
    }
   ],
   "source": [
    "# Define the simulation folder\n",
    "simulation_folder = \"md_thermo\"\n",
    "\n",
    "# Define the ensembles that should be simulated (definition what each ensemble means is provided in yaml file)\n",
    "ensembles = [ \"em\", \"nvt\", \"npt_equilibration\", \"npt_production\" ]\n",
    "\n",
    "# Define the simulation time per ensemble in nano seconds (for em provide number of iterations)\n",
    "simulation_times = [ 10000, 1.0, 5.0, 10.0 ]\n",
    "\n",
    "# Define initial systems, in case the simulation should be continued from a prior simulation.\n",
    "# Therefore, provide one initial structure for each temperature & pressure state.\n",
    "# If none are specified, gmx-insert will create them.\n",
    "initial_systems = []\n",
    "\n",
    "# Provide kwargs that should be passed into the mdp template directly\n",
    "mdp_kwargs = {}\n",
    "\n",
    "# Define number of copies\n",
    "copies = 2\n",
    "\n",
    "# Define if the inital system should build locally or with the cluster\n",
    "on_cluster = False\n",
    "\n",
    "\n",
    "gromacs_setup.prepare_simulation( folder_name = simulation_folder, ensembles = ensembles, \n",
    "                                  simulation_times = simulation_times, initial_systems = initial_systems, \n",
    "                                  mdp_kwargs = mdp_kwargs, copies = copies, on_cluster = on_cluster \n",
    "                                )"
   ]
  },
  {
   "cell_type": "code",
   "execution_count": 5,
   "metadata": {},
   "outputs": [
    {
     "name": "stdout",
     "output_type": "stream",
     "text": [
      "\n",
      "Submitting simulations at Temperature = 298 K, Pressure = 1 bar\n",
      "\n",
      "Submitting job: /home/st/st_st/st_ac137577/workspace/software/pyGROMACS/example/liquid/water/md_thermo/temp_298.1_pres_1.0/copy_0/job_298.sh\n",
      "11438445\n",
      "\n",
      "\n",
      "Submitting job: /home/st/st_st/st_ac137577/workspace/software/pyGROMACS/example/liquid/water/md_thermo/temp_298.1_pres_1.0/copy_1/job_298.sh\n",
      "11438446\n",
      "\n",
      "\n",
      "Submitting job: /home/st/st_st/st_ac137577/workspace/software/pyGROMACS/example/liquid/water/md_thermo/temp_298.1_pres_1.0/copy_2/job_298.sh\n",
      "11438447\n",
      "\n",
      "\n"
     ]
    }
   ],
   "source": [
    "# Submit the simulations\n",
    "gromacs_setup.submit_simulation()"
   ]
  },
  {
   "cell_type": "markdown",
   "metadata": {},
   "source": [
    "## Data analysis\n",
    "\n",
    "This generic tool allows to extract properties using GROMACS commands for an specified simulation folder and ensemble. This will average the properties over each copy and safe the produced data in each temperature & pressure folder as json file"
   ]
  },
  {
   "cell_type": "markdown",
   "metadata": {},
   "source": [
    "### Extract and analysis of generic properties"
   ]
  },
  {
   "cell_type": "code",
   "execution_count": 3,
   "metadata": {},
   "outputs": [
    {
     "name": "stdout",
     "output_type": "stream",
     "text": [
      "Extract locally\n",
      "\n",
      "/home/st/st_st/st_ac137577/workspace/software/pyGROMACS/example/water/md_thermo/temp_298.1_pres_1.0/copy_0/02_npt_equilibration/extract_properties.sh\n",
      "/home/st/st_st/st_ac137577/workspace/software/pyGROMACS/example/water/md_thermo/temp_298.1_pres_1.0/copy_1/02_npt_equilibration/extract_properties.sh\n",
      "/home/st/st_st/st_ac137577/workspace/software/pyGROMACS/example/water/md_thermo/temp_298.1_pres_1.0/copy_2/02_npt_equilibration/extract_properties.sh \n",
      "\n",
      "Wait until extraction is done...\n"
     ]
    },
    {
     "name": "stderr",
     "output_type": "stream",
     "text": [
      "/home/st/st_st/st_ac137577/miniconda3/envs/py311/lib/python3.11/multiprocessing/popen_fork.py:66: RuntimeWarning: os.fork() was called. os.fork() is incompatible with multithreaded code, and JAX is multithreaded, so this will likely lead to a deadlock.\n",
      "  self.pid = os.fork()\n"
     ]
    },
    {
     "name": "stderr",
     "output_type": "stream",
     "text": [
      "/home/st/st_st/st_ac137577/miniconda3/envs/py311/lib/python3.11/multiprocessing/popen_fork.py:66: RuntimeWarning: os.fork() was called. os.fork() is incompatible with multithreaded code, and JAX is multithreaded, so this will likely lead to a deadlock.\n",
      "  self.pid = os.fork()\n"
     ]
    },
    {
     "name": "stdout",
     "output_type": "stream",
     "text": [
      "Extraction finished!\n",
      "\n",
      "\n",
      "Temperature: 298.15, Pressure: 1.0\n",
      "   \n",
      "\n",
      "Averaged values over all copies:\n",
      "\n",
      "    property          mean         std    unit\n",
      "0      Time    668.333333  133.984521      ps\n",
      "1    Volume  29504.811297   81.900549    nm^3\n",
      "2   Density      1.013917    0.002815  kg/m^3\n",
      "3  Enthalpy -43855.500493  867.067426  kJ/mol \n",
      "\n"
     ]
    }
   ],
   "source": [
    "# Extract properties from GROMACS and analyse them\n",
    "\n",
    "# Define analysis folder\n",
    "analysis_folder = \"md_thermo\"\n",
    "\n",
    "# Define analysis ensemble\n",
    "ensemble = \"02_npt_equilibration\"\n",
    "\n",
    "# Define GROMACS command\n",
    "command = \"energy\" #\n",
    "\n",
    "# Properties to extract\n",
    "properties = [\"Density\", \"Volume\", \"Enthalpy\"]\n",
    "\n",
    "# Special args to gromacs analysis\n",
    "args = [ ]\n",
    "\n",
    "# XVG output name\n",
    "output_name = \"properties\" \n",
    "\n",
    "# Submit analysis on cluster\n",
    "on_cluster = False\n",
    "\n",
    "# Perform extraction from gromacs\n",
    "extract = True\n",
    "\n",
    "gromacs_setup.analysis_extract_properties( analysis_folder = analysis_folder, ensemble = ensemble, extracted_properties = properties, fraction = 0.25,\n",
    "                                           command = command, args = args, output_name = output_name, on_cluster = on_cluster, extract = extract )"
   ]
  }
 ],
 "metadata": {
  "kernelspec": {
   "display_name": "py312",
   "language": "python",
   "name": "python3"
  },
  "language_info": {
   "codemirror_mode": {
    "name": "ipython",
    "version": 3
   },
   "file_extension": ".py",
   "mimetype": "text/x-python",
   "name": "python",
   "nbconvert_exporter": "python",
   "pygments_lexer": "ipython3",
   "version": "3.11.8"
  }
 },
 "nbformat": 4,
 "nbformat_minor": 2
}
