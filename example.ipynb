{
 "cells": [
  {
   "cell_type": "code",
   "execution_count": 1,
   "metadata": {},
   "outputs": [
    {
     "name": "stderr",
     "output_type": "stream",
     "text": [
      "Warning on use of the timeseries module: If the inherent timescales of the system are long compared to those being analyzed, this statistical inefficiency may be an underestimate.  The estimate presumes the use of many statistically independent samples.  Tests should be performed to assess whether this condition is satisfied.   Be cautious in the interpretation of the data.\n",
      "\n",
      "****** PyMBAR will use 64-bit JAX! *******\n",
      "* JAX is currently set to 32-bit bitsize *\n",
      "* which is its default.                  *\n",
      "*                                        *\n",
      "* PyMBAR requires 64-bit mode and WILL   *\n",
      "* enable JAX's 64-bit mode when called.  *\n",
      "*                                        *\n",
      "* This MAY cause problems with other     *\n",
      "* Uses of JAX in the same code.          *\n",
      "******************************************\n",
      "\n"
     ]
    }
   ],
   "source": [
    "from pyGROMACS import GROMACS_setup\n",
    "from pyGROMACS.utils_automated import read_out_optimized_lambdas"
   ]
  },
  {
   "cell_type": "code",
   "execution_count": null,
   "metadata": {},
   "outputs": [],
   "source": [
    "## change read xvg again"
   ]
  },
  {
   "cell_type": "markdown",
   "metadata": {},
   "source": [
    "# pyGROMACS\n",
    "\n",
    "This notebook enables the setup of MD simulations using GROMACS and to analyse them in an automated fashion"
   ]
  },
  {
   "cell_type": "code",
   "execution_count": 11,
   "metadata": {},
   "outputs": [],
   "source": [
    "gromacs_setup = GROMACS_setup( system_setup = \"input/system_setup_C6.yaml\", \n",
    "                               simulation_default = \"/home/st/st_us-041610/st_ac137577/software/pyGROMACS/parameters/parameter_defaults.yaml\",\n",
    "                               simulation_ensemble = \"/home/st/st_us-041610/st_ac137577/software/pyGROMACS/parameters/parameter_ensemble.yaml\",\n",
    "                               submission_command = \"sbatch\"\n",
    "                             )"
   ]
  },
  {
   "cell_type": "markdown",
   "metadata": {},
   "source": [
    "## Setting up a simulation pipeline\n",
    "\n",
    "In this section the possibility to setup a simulation folder, along with a simulation pipeline using several ensembles is set up.\n",
    "\n",
    "1) Setup simulation and build initial system (if not provided)\n",
    "2) Submit jobs to cluster"
   ]
  },
  {
   "cell_type": "code",
   "execution_count": 12,
   "metadata": {},
   "outputs": [
    {
     "name": "stdout",
     "output_type": "stream",
     "text": [
      "\n",
      "Building system based on provided molecule numbers and coordinate files!\n",
      "\n",
      "\n",
      "Build system locally! Wait until it is finished.\n",
      "\n",
      "Build successful\n",
      "\n"
     ]
    }
   ],
   "source": [
    "# Define the simulation folder\n",
    "simulation_folder = \"md_thermo\"\n",
    "\n",
    "# Define the ensembles that should be simulated (definition what each ensemble means is provided in yaml file)\n",
    "ensembles = [ \"em\", \"nvt\", \"npt_equilibration\", \"npt_production\", \"nvt\" ]\n",
    "\n",
    "# Define the simulation time per ensemble in nano seconds (for em provide number of iterations)\n",
    "simulation_times = [ 10000, 1.0, 20.0, 10.0, 20.0 ]\n",
    "\n",
    "# Define initial systems, in case the simulation should be continued from a prior simulation.\n",
    "# In that case, provide one initial structure for each temperature & pressure state.\n",
    "# If the simulation should start from an initial configuration, provide an empty list.\n",
    "initial_systems = [  ] \n",
    "initial_systems = []\n",
    "\n",
    "# Provide kwargs that should be passed into the mdp template directly\n",
    "mdp_kwargs = { \"nemd\": { \"cos_acceleration\": 0.2 } }\n",
    "mdp_kwargs = {}\n",
    "\n",
    "# Define number of copies\n",
    "copies = 2\n",
    "\n",
    "# Define if the inital system should build locally or with the cluster\n",
    "on_cluster = False\n",
    "\n",
    "\n",
    "gromacs_setup.prepare_simulation( folder_name = simulation_folder, ensembles = ensembles, simulation_times = simulation_times,\n",
    "                                  initial_systems = initial_systems, mdp_kwargs = mdp_kwargs, copies = copies,\n",
    "                                  on_cluster = on_cluster )"
   ]
  },
  {
   "cell_type": "code",
   "execution_count": 10,
   "metadata": {},
   "outputs": [
    {
     "name": "stdout",
     "output_type": "stream",
     "text": [
      "\n",
      "Submitting simulations at Temperature = 313 K, Pressure = 1 bar\n",
      "\n",
      "Submitting job: /home/st/st_us-041610/st_ac137577/fair_simulations/C5/md_thermo/temp_313_pres_1/copy_0/job_313.sh\n",
      "Submitted batch job 23254580\n",
      "\n",
      "\n",
      "Submitting job: /home/st/st_us-041610/st_ac137577/fair_simulations/C5/md_thermo/temp_313_pres_1/copy_1/job_313.sh\n",
      "Submitted batch job 23254581\n",
      "\n",
      "\n",
      "Submitting job: /home/st/st_us-041610/st_ac137577/fair_simulations/C5/md_thermo/temp_313_pres_1/copy_2/job_313.sh\n",
      "Submitted batch job 23254582\n",
      "\n",
      "\n",
      "\n",
      "Submitting simulations at Temperature = 323 K, Pressure = 1 bar\n",
      "\n",
      "Submitting job: /home/st/st_us-041610/st_ac137577/fair_simulations/C5/md_thermo/temp_323_pres_1/copy_0/job_323.sh\n",
      "Submitted batch job 23254583\n",
      "\n",
      "\n",
      "Submitting job: /home/st/st_us-041610/st_ac137577/fair_simulations/C5/md_thermo/temp_323_pres_1/copy_1/job_323.sh\n",
      "Submitted batch job 23254584\n",
      "\n",
      "\n",
      "Submitting job: /home/st/st_us-041610/st_ac137577/fair_simulations/C5/md_thermo/temp_323_pres_1/copy_2/job_323.sh\n",
      "Submitted batch job 23254585\n",
      "\n",
      "\n",
      "\n",
      "Submitting simulations at Temperature = 333 K, Pressure = 1 bar\n",
      "\n",
      "Submitting job: /home/st/st_us-041610/st_ac137577/fair_simulations/C5/md_thermo/temp_333_pres_1/copy_0/job_333.sh\n",
      "Submitted batch job 23254586\n",
      "\n",
      "\n",
      "Submitting job: /home/st/st_us-041610/st_ac137577/fair_simulations/C5/md_thermo/temp_333_pres_1/copy_1/job_333.sh\n",
      "Submitted batch job 23254587\n",
      "\n",
      "\n",
      "Submitting job: /home/st/st_us-041610/st_ac137577/fair_simulations/C5/md_thermo/temp_333_pres_1/copy_2/job_333.sh\n",
      "Submitted batch job 23254588\n",
      "\n",
      "\n",
      "\n",
      "Submitting simulations at Temperature = 343 K, Pressure = 1 bar\n",
      "\n",
      "Submitting job: /home/st/st_us-041610/st_ac137577/fair_simulations/C5/md_thermo/temp_343_pres_1/copy_0/job_343.sh\n",
      "Submitted batch job 23254589\n",
      "\n",
      "\n",
      "Submitting job: /home/st/st_us-041610/st_ac137577/fair_simulations/C5/md_thermo/temp_343_pres_1/copy_1/job_343.sh\n",
      "Submitted batch job 23254590\n",
      "\n",
      "\n",
      "Submitting job: /home/st/st_us-041610/st_ac137577/fair_simulations/C5/md_thermo/temp_343_pres_1/copy_2/job_343.sh\n",
      "Submitted batch job 23254591\n",
      "\n",
      "\n",
      "\n",
      "Submitting simulations at Temperature = 353 K, Pressure = 1 bar\n",
      "\n",
      "Submitting job: /home/st/st_us-041610/st_ac137577/fair_simulations/C5/md_thermo/temp_353_pres_1/copy_0/job_353.sh\n",
      "Submitted batch job 23254592\n",
      "\n",
      "\n",
      "Submitting job: /home/st/st_us-041610/st_ac137577/fair_simulations/C5/md_thermo/temp_353_pres_1/copy_1/job_353.sh\n",
      "Submitted batch job 23254593\n",
      "\n",
      "\n",
      "Submitting job: /home/st/st_us-041610/st_ac137577/fair_simulations/C5/md_thermo/temp_353_pres_1/copy_2/job_353.sh\n",
      "Submitted batch job 23254594\n",
      "\n",
      "\n"
     ]
    }
   ],
   "source": [
    "# Submit the simulations\n",
    "gromacs_setup.submit_simulation()"
   ]
  },
  {
   "cell_type": "markdown",
   "metadata": {},
   "source": [
    "## Scanning (solvation) free energy\n",
    "\n",
    "This part covers the scanning of solvation free energy.\n",
    "\n",
    "1) Add Guest molecule in equilibrated system and equilibrate it further. !! Solutes should have the same name as in the topology file !!\n",
    "2) [Optional] Optimize the intermediates for decoupling\n",
    "3) Submit decoupling simulations for each solute"
   ]
  },
  {
   "cell_type": "code",
   "execution_count": null,
   "metadata": {},
   "outputs": [],
   "source": [
    "## get again that job files are corretcly submitted"
   ]
  },
  {
   "cell_type": "markdown",
   "metadata": {},
   "source": [
    "### 1) Add guest molecules and equilibrate the system"
   ]
  },
  {
   "cell_type": "code",
   "execution_count": null,
   "metadata": {},
   "outputs": [],
   "source": [
    "# Define the simulation folder\n",
    "simulation_folder = \"md_thermo\"\n",
    "\n",
    "# Define the ensembles that should be simulated (definition what each ensemble means is provided in yaml file)\n",
    "ensembles = [ \"em\", \"nvt\", \"npt_equilibration\", \"npt_production\" ]\n",
    "\n",
    "# Define the simulation time per ensemble in nano seconds (for em provide number of iterations)\n",
    "simulation_times = [ 10000, 2.0, 2.0, 10.0 ]\n",
    "\n",
    "# Define initial systems, in case the simulation should be continued from a prior simulation.\n",
    "# In that case, provide one initial structure for each temperature & pressure state.\n",
    "# If the simulation should start from an initial configuration, provide an empty list.\n",
    "initial_systems = [  ] \n",
    "initial_systems = []\n",
    "\n",
    "# Define solutes (same naming as in the topology file!) and their corresponding coordinates\n",
    "solutes = [ \"CO2\", \"N2\", \"CH4\", \"O2\" ]\n",
    "solute_coordinates = [ \"/home/st/st_us-041610/st_ac137577/fair_simulations/coordinates/co2.gro\",\n",
    "                       \"/home/st/st_us-041610/st_ac137577/fair_simulations/coordinates/n2.gro\",\n",
    "                       \"/home/st/st_us-041610/st_ac137577/fair_simulations/coordinates/met.gro\",\n",
    "                       \"/home/st/st_us-041610/st_ac137577/fair_simulations/coordinates/o2.gro\" ]\n",
    "\n",
    "# Define number of copies\n",
    "copies = 0\n",
    "\n",
    "# Ensure that all jobs for all solutes are submitted at once\n",
    "job_files = [ [] for _ in gromacs_setup.system_setup[\"system\"][\"temperature\"] ]\n",
    "\n",
    "for solute, solute_coordinate in zip( solutes, solute_coordinates ):\n",
    "    gromacs_setup.add_guest_molecule_and_prepare_equilibrate( folder_name = simulation_folder, ensembles = ensembles, simulation_times = simulation_times,\n",
    "                                                              initial_systems = initial_systems, solute = solute, solute_coordinate = solute_coordinate, \n",
    "                                                              copies = copies )\n",
    "    for i, files in enumerate( gromacs_setup.job_files ):\n",
    "        job_files[i].extend( files )\n",
    "\n",
    "gromacs_setup.job_files = job_files"
   ]
  },
  {
   "cell_type": "code",
   "execution_count": null,
   "metadata": {},
   "outputs": [],
   "source": [
    "# Submit the simulations\n",
    "gromacs_setup.submit_simulation()"
   ]
  },
  {
   "cell_type": "markdown",
   "metadata": {},
   "source": [
    "### 2) [Optional] Optimization of intermediates\n"
   ]
  },
  {
   "cell_type": "code",
   "execution_count": null,
   "metadata": {},
   "outputs": [],
   "source": [
    "# Define simulation folder\n",
    "simulation_folder = \"free_energy\"\n",
    "\n",
    "# Solutes for optimization\n",
    "solutes           = [ \"CO2\", \"O2\", \"CH4\", \"N2\" ]\n",
    "\n",
    "# Choose one state point for optimization (should not vary much over temperature and thus, one should be enough)\n",
    "temperature       = gromacs_setup.system_setup[\"system\"][\"temperature\"][0]\n",
    "pressure          = gromacs_setup.system_setup[\"system\"][\"pressure\"][0]\n",
    "compressibility   = gromacs_setup.system_setup[\"system\"][\"compressibility\"][0]\n",
    "\n",
    "for solute in solutes:\n",
    "\n",
    "    initial_cord  = f'{gromacs_setup.system_setup[\"system\"][\"folder\"]}/{gromacs_setup.system_setup[\"system\"][\"name\"]}/free_energy/{solute}/equilibration/temp_{temperature:.0f}_pres_{pressure:.0f}/copy_0/03_prod/prod.gro'\n",
    "    initial_cpt   = f'{gromacs_setup.system_setup[\"system\"][\"folder\"]}/{gromacs_setup.system_setup[\"system\"][\"name\"]}/free_energy/{solute}/equilibration/temp_{temperature:.0f}_pres_{pressure:.0f}/copy_0/03_prod/prod.cpt'\n",
    "    initial_topo  = f'{gromacs_setup.system_setup[\"system\"][\"folder\"]}/{gromacs_setup.system_setup[\"system\"][\"name\"]}/free_energy/{solute}/box/topology_{gromacs_setup.system_setup[\"system\"][\"name\"]}.top'\n",
    "\n",
    "    gromacs_setup.optimize_intermediates( folder_name = simulation_folder, simulation_free_energy = \"parameter_free_energy.yaml\", solute = solute,\n",
    "                                             temperature = temperature, pressure = pressure, compressibility = compressibility, iteration_time = 1.0,\n",
    "                                             initial_coord = initial_cord, initial_cpt = initial_cpt, initial_topo = initial_topo, tolerance = 0.10,\n",
    "                                             min_overlap = 0.25, max_overlap = 0.4 )\n"
   ]
  },
  {
   "cell_type": "code",
   "execution_count": null,
   "metadata": {},
   "outputs": [],
   "source": [
    "# Read out optimized lambdas\n",
    "combined_lambdas = []\n",
    "\n",
    "solutes           = [ \"CO2\", \"O2\", \"CH4\", \"N2\" ]\n",
    "    \n",
    "for i,solute in enumerate(solutes):\n",
    "    log_opt_file = f'{gromacs_setup.system_setup[\"system\"][\"folder\"]}/{gromacs_setup.system_setup[\"system\"][\"name\"]}/free_energy/{solute}/optimization/opt_intermediates.log'\n",
    "    combined_lambdas.append( read_out_optimized_lambdas(log_opt_file) )\n",
    "    print(f\"Optimized lambdas for {solute}:\\n   {' '.join([str(l) for l in combined_lambdas[i]])}\\n\")"
   ]
  },
  {
   "cell_type": "markdown",
   "metadata": {},
   "source": [
    "### 3) Submit final free energy jobs"
   ]
  },
  {
   "cell_type": "code",
   "execution_count": null,
   "metadata": {},
   "outputs": [],
   "source": [
    "# Setup free energy simulations\n",
    "\n",
    "# Define simulation folder\n",
    "simulation_folder = \"free_energy\"\n",
    "\n",
    "# Define ensembles, the meaning of each ensemble is defined in the simulation_ensemble yaml\n",
    "ensembles        = [ \"em\", \"nvt\", \"npt\", \"prod\" ]\n",
    "\n",
    "# Define simulation time per ensemble in nanoseconds (for \"em\" provide number of optimization steps)\n",
    "simulation_times = [ 10000, 2.0, 2.0, 10.0 ]\n",
    "\n",
    "# Define the number of copies for each system\n",
    "copies           = 0\n",
    "\n",
    "# Solutes\n",
    "solutes          = [ \"CO2\", \"O2\", \"CH4\", \"N2\" ]\n",
    "\n",
    "# Define lambdas that should be used (for each solute individual)\n",
    "#combined_lambdas = [[ 0.069, 0.33 , 0.67 , 0.931, 1.025, 1.129, 1.297, 1.5  , 1.703, 1.871, 1.975 ]]\n",
    "\n",
    "# Ensure that all jobs for all solutes are submitted at once\n",
    "job_files = [ [] for _ in gromacs_setup.system_setup[\"system\"][\"temperature\"] ]\n",
    "\n",
    "for i,solute in enumerate( solutes ):\n",
    "\n",
    "    # Define initial systems for each temperature & pressure state, based on the equilibration done before\n",
    "    initial_systems = [ ( f'{gromacs_setup.system_setup[\"system\"][\"folder\"]}/{gromacs_setup.system_setup[\"system\"][\"name\"]}'\n",
    "                          f'/free_energy/{solute}/equilibration/temp_{temp:.0f}_pres_{press:.0f}/copy_0/03_prod/prod.gro' )\n",
    "                        for temp, press in zip( gromacs_setup.system_setup[\"system\"][\"temperature\"], gromacs_setup.system_setup[\"system\"][\"pressure\"] ) ]\n",
    "\n",
    "\n",
    "    gromacs_setup.prepare_free_energy_simulation( folder_name = simulation_folder, simulation_free_energy = \"parameter_free_energy.yaml\", solute = solute, \n",
    "                                                      combined_lambdas = combined_lambdas[i], initial_systems = initial_systems, ensembles = ensembles,\n",
    "                                                      copies = copies, simulation_times = simulation_times  )\n",
    "\n",
    "    for j, files in enumerate( gromacs_setup.job_files ):\n",
    "      job_files[j].extend( files )\n",
    "\n",
    "gromacs_setup.job_files = job_files"
   ]
  },
  {
   "cell_type": "code",
   "execution_count": null,
   "metadata": {},
   "outputs": [],
   "source": [
    "# Submit the simulations\n",
    "gromacs_setup.submit_simulation()"
   ]
  },
  {
   "cell_type": "markdown",
   "metadata": {},
   "source": [
    "## Data analysis\n",
    "\n",
    "This generic tool allows to extract properties using GROMACS commands for an specified simulation folder and ensemble. This will average the properties over each copy and safe the produced data in each temperature & pressure folder as json file"
   ]
  },
  {
   "cell_type": "markdown",
   "metadata": {},
   "source": [
    "### Extract and analysis generic properties"
   ]
  },
  {
   "cell_type": "code",
   "execution_count": null,
   "metadata": {},
   "outputs": [],
   "source": [
    "# Extract properties from GROMACS and analyse them\n",
    "\n",
    "# Define analysis folder\n",
    "analysis_folder = \"md_thermo\"\n",
    "\n",
    "# Define analysis ensemble\n",
    "ensemble = \"03_nvt\" # \"02_npt\" # \n",
    "\n",
    "# Define GROMACS command\n",
    "command = \"msd\" # \"energy\" #  \n",
    "\n",
    "# Properties to extract\n",
    "properties = [\"SOL\"] # [\"Density\", \"Volume\", \"Enthalpy\"] #  [\"1/Viscosity\"] # \n",
    "\n",
    "# Special args to gromacs analysis\n",
    "args = [ \"-dt 2\", \"-beginfit 5000\", \"-endfit 17500\", \"-type x\"] # [ ] # \n",
    "\n",
    "# XVG output name\n",
    "output_name = \"msd_x\" # \"properties\" # \n",
    "\n",
    "# Submit analysis on cluster\n",
    "on_cluster = False\n",
    "\n",
    "# Perform extraction from gromacs\n",
    "extract = True\n",
    "\n",
    "gromacs_setup.analysis_extract_properties( analysis_folder = analysis_folder, ensemble = ensemble, extracted_properties = properties, fraction = 0.25,\n",
    "                                           command = command, args = args, output_name = output_name, on_cluster = on_cluster, extract = extract )"
   ]
  },
  {
   "cell_type": "markdown",
   "metadata": {},
   "source": [
    "### Extract and analysis solvation free energies"
   ]
  },
  {
   "cell_type": "code",
   "execution_count": null,
   "metadata": {},
   "outputs": [],
   "source": [
    "# Extract solvation free energy results \n",
    "\n",
    "# Define analysis folder\n",
    "analysis_folder = \"free_energy\"\n",
    "\n",
    "# Define analysis ensemble\n",
    "ensemble = \"03_prod\"\n",
    "\n",
    "# Solutes\n",
    "solutes  = [ \"CO2\" ]\n",
    "\n",
    "for solute in solutes:\n",
    "    gromacs_setup.analysis_free_energy( analysis_folder = analysis_folder, ensemble = ensemble, solute = solute )"
   ]
  }
 ],
 "metadata": {
  "kernelspec": {
   "display_name": "py312",
   "language": "python",
   "name": "python3"
  },
  "language_info": {
   "codemirror_mode": {
    "name": "ipython",
    "version": 3
   },
   "file_extension": ".py",
   "mimetype": "text/x-python",
   "name": "python",
   "nbconvert_exporter": "python",
   "pygments_lexer": "ipython3",
   "version": "3.11.8"
  }
 },
 "nbformat": 4,
 "nbformat_minor": 2
}
